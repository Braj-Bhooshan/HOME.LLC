import pandas as pd


df_crime = pd.read_csv('Home.LLC/Crime.csv')
df_crime.head()



